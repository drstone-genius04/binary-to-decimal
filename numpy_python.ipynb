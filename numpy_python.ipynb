{
  "nbformat": 4,
  "nbformat_minor": 0,
  "metadata": {
    "colab": {
      "name": "numpy python.ipynb",
      "provenance": [],
      "collapsed_sections": [],
      "authorship_tag": "ABX9TyOGRS4rFtDXC4uTeZLUKyTu",
      "include_colab_link": true
    },
    "kernelspec": {
      "name": "python3",
      "display_name": "Python 3"
    },
    "language_info": {
      "name": "python"
    }
  },
  "cells": [
    {
      "cell_type": "markdown",
      "metadata": {
        "id": "view-in-github",
        "colab_type": "text"
      },
      "source": [
        "<a href=\"https://colab.research.google.com/github/drstone-genius04/binary-to-decimal/blob/main/numpy_python.ipynb\" target=\"_parent\"><img src=\"https://colab.research.google.com/assets/colab-badge.svg\" alt=\"Open In Colab\"/></a>"
      ]
    },
    {
      "cell_type": "code",
      "execution_count": 1,
      "metadata": {
        "colab": {
          "base_uri": "https://localhost:8080/"
        },
        "id": "dlAQf7eigI-m",
        "outputId": "07405dc4-ca1a-4766-ad00-98ac57462362"
      },
      "outputs": [
        {
          "output_type": "stream",
          "name": "stdout",
          "text": [
            "[1 2 3]\n",
            "<class 'numpy.ndarray'>\n"
          ]
        }
      ],
      "source": [
        "import numpy as np\n",
        "a=np.array([1,2,3])\n",
        "print(a)\n",
        "print(type(a))"
      ]
    },
    {
      "cell_type": "code",
      "source": [
        "print(a.shape)\n"
      ],
      "metadata": {
        "colab": {
          "base_uri": "https://localhost:8080/"
        },
        "id": "UwbwkATcgqFV",
        "outputId": "4cb59b00-bb4b-4c82-cba6-01ac5d5baf00"
      },
      "execution_count": 2,
      "outputs": [
        {
          "output_type": "stream",
          "name": "stdout",
          "text": [
            "(3,)\n"
          ]
        }
      ]
    },
    {
      "cell_type": "code",
      "source": [
        "b=np.array([[1,2],[3,4]])\n",
        "print(b)\n",
        "print(type(b))\n",
        "print(b.shape)"
      ],
      "metadata": {
        "colab": {
          "base_uri": "https://localhost:8080/"
        },
        "id": "HitTQQAogzss",
        "outputId": "2e93e121-0fd6-4068-d2e3-8fc8350bd022"
      },
      "execution_count": 3,
      "outputs": [
        {
          "output_type": "stream",
          "name": "stdout",
          "text": [
            "[[1 2]\n",
            " [3 4]]\n",
            "<class 'numpy.ndarray'>\n",
            "(2, 2)\n"
          ]
        }
      ]
    },
    {
      "cell_type": "code",
      "source": [
        "print(a.ndim)\n",
        "print(b.ndim)"
      ],
      "metadata": {
        "colab": {
          "base_uri": "https://localhost:8080/"
        },
        "id": "B56PtojJg5r0",
        "outputId": "be137e9b-f74b-4ead-a317-9c1474f4a584"
      },
      "execution_count": 4,
      "outputs": [
        {
          "output_type": "stream",
          "name": "stdout",
          "text": [
            "1\n",
            "2\n"
          ]
        }
      ]
    },
    {
      "cell_type": "code",
      "source": [
        "c=np.array([[1,2,3],[4,5,6],[7,8,9]])\n",
        "print(c)\n",
        "print(c.shape)\n",
        "print(c.ndim)"
      ],
      "metadata": {
        "colab": {
          "base_uri": "https://localhost:8080/"
        },
        "id": "6zF9v67RhWnt",
        "outputId": "84fbf160-9f4b-4663-ea3d-92a1a651c91f"
      },
      "execution_count": 6,
      "outputs": [
        {
          "output_type": "stream",
          "name": "stdout",
          "text": [
            "[[1 2 3]\n",
            " [4 5 6]\n",
            " [7 8 9]]\n",
            "(3, 3)\n",
            "2\n"
          ]
        }
      ]
    },
    {
      "cell_type": "code",
      "source": [
        "print(c[0,0])\n",
        "print(c[1,1])\n",
        "print(c.size)"
      ],
      "metadata": {
        "colab": {
          "base_uri": "https://localhost:8080/"
        },
        "id": "77x3QJvailVN",
        "outputId": "bdd322ca-0505-4003-843e-c8013076a124"
      },
      "execution_count": 7,
      "outputs": [
        {
          "output_type": "stream",
          "name": "stdout",
          "text": [
            "1\n",
            "5\n",
            "9\n"
          ]
        }
      ]
    },
    {
      "cell_type": "code",
      "source": [
        "d=np.zeros((2,2))\n",
        "print(d)"
      ],
      "metadata": {
        "colab": {
          "base_uri": "https://localhost:8080/"
        },
        "id": "g5X8reHripkG",
        "outputId": "62e9518b-baec-45d5-9adc-3dd60d558b2c"
      },
      "execution_count": 8,
      "outputs": [
        {
          "output_type": "stream",
          "name": "stdout",
          "text": [
            "[[0. 0.]\n",
            " [0. 0.]]\n"
          ]
        }
      ]
    },
    {
      "cell_type": "code",
      "source": [
        "e=np.full((2,2),9)\n",
        "print(e)"
      ],
      "metadata": {
        "colab": {
          "base_uri": "https://localhost:8080/"
        },
        "id": "MaihMzqHirJV",
        "outputId": "2d9fc7e1-014d-456e-a0fe-42ead89d62dd"
      },
      "execution_count": 9,
      "outputs": [
        {
          "output_type": "stream",
          "name": "stdout",
          "text": [
            "[[9 9]\n",
            " [9 9]]\n"
          ]
        }
      ]
    },
    {
      "cell_type": "code",
      "source": [
        "f=np.random.random((3,3))\n",
        "print(f)"
      ],
      "metadata": {
        "colab": {
          "base_uri": "https://localhost:8080/"
        },
        "id": "nQnZIgVSi7x0",
        "outputId": "13e52268-a7c9-4705-a2ba-985752e49246"
      },
      "execution_count": 10,
      "outputs": [
        {
          "output_type": "stream",
          "name": "stdout",
          "text": [
            "[[0.10765725 0.94232845 0.96924094]\n",
            " [0.08747816 0.04774361 0.40229709]\n",
            " [0.58241424 0.60987623 0.52642882]]\n"
          ]
        }
      ]
    },
    {
      "cell_type": "code",
      "source": [
        "g=np.array([[1,2,3,4],[5,6,7,8],[9,10,11,12]])\n",
        "print(g)\n",
        "h=g[:2,1:3]\n",
        "print(h)\n",
        "j=g[1:3,1:]\n",
        "print(j)\n",
        "k=g[1:3,1:3]\n",
        "print(k)\n",
        "l=g[1:,2:]\n",
        "print(l)"
      ],
      "metadata": {
        "colab": {
          "base_uri": "https://localhost:8080/"
        },
        "id": "UYpcYAW5jBaF",
        "outputId": "0d5f9210-fc98-479a-f1a2-ef83e8a3378d"
      },
      "execution_count": 11,
      "outputs": [
        {
          "output_type": "stream",
          "name": "stdout",
          "text": [
            "[[ 1  2  3  4]\n",
            " [ 5  6  7  8]\n",
            " [ 9 10 11 12]]\n",
            "[[2 3]\n",
            " [6 7]]\n",
            "[[ 6  7  8]\n",
            " [10 11 12]]\n",
            "[[ 6  7]\n",
            " [10 11]]\n",
            "[[ 7  8]\n",
            " [11 12]]\n"
          ]
        }
      ]
    },
    {
      "cell_type": "code",
      "source": [
        "print(g[0,1])\n",
        "j[0,0]=10000\n",
        "print(g[0,1])\n",
        "print(g)\n",
        "print(j)"
      ],
      "metadata": {
        "colab": {
          "base_uri": "https://localhost:8080/"
        },
        "id": "GR6r4rtmh7Mt",
        "outputId": "8e5e5f52-b6cb-4451-fe9e-841a1f9dcc3a"
      },
      "execution_count": 14,
      "outputs": [
        {
          "output_type": "stream",
          "name": "stdout",
          "text": [
            "2\n",
            "2\n",
            "[[    1     2     3     4]\n",
            " [    5 10000     7     8]\n",
            " [    9    10    11    12]]\n",
            "[[10000     7     8]\n",
            " [   10    11    12]]\n"
          ]
        }
      ]
    },
    {
      "cell_type": "code",
      "source": [
        "list1=[1.5,2,3,4,5,6]\n",
        "print(list1)\n",
        "array1= np.array(list1,dtype= int)\n",
        "print(array1)"
      ],
      "metadata": {
        "colab": {
          "base_uri": "https://localhost:8080/"
        },
        "id": "4qNLcq9inWi6",
        "outputId": "0bbf7a17-8cab-4731-c090-5e55a363da28"
      },
      "execution_count": 15,
      "outputs": [
        {
          "output_type": "stream",
          "name": "stdout",
          "text": [
            "[1.5, 2, 3, 4, 5, 6]\n",
            "[1 2 3 4 5 6]\n"
          ]
        }
      ]
    },
    {
      "cell_type": "code",
      "source": [
        "new=g.reshape(2,6)\n",
        "print(new)\n"
      ],
      "metadata": {
        "colab": {
          "base_uri": "https://localhost:8080/"
        },
        "id": "8sNknLHwnayo",
        "outputId": "6a3e4e78-a673-4d48-a532-bb184ead220e"
      },
      "execution_count": 16,
      "outputs": [
        {
          "output_type": "stream",
          "name": "stdout",
          "text": [
            "[[    1     2     3     4     5 10000]\n",
            " [    7     8     9    10    11    12]]\n"
          ]
        }
      ]
    },
    {
      "cell_type": "code",
      "source": [
        "arr= np.arange(30)\n",
        "print(arr)\n",
        "print(arr.ndim)\n"
      ],
      "metadata": {
        "colab": {
          "base_uri": "https://localhost:8080/"
        },
        "id": "bshLcMxanr6Y",
        "outputId": "93760294-fb24-41dc-b663-14fa9756fc68"
      },
      "execution_count": 17,
      "outputs": [
        {
          "output_type": "stream",
          "name": "stdout",
          "text": [
            "[ 0  1  2  3  4  5  6  7  8  9 10 11 12 13 14 15 16 17 18 19 20 21 22 23\n",
            " 24 25 26 27 28 29]\n",
            "1\n"
          ]
        }
      ]
    },
    {
      "cell_type": "code",
      "source": [
        "x=np.array([[1,2],[3,4]], dtype=np.float64)\n",
        "y=np.array([[5,6],[7,8]], dtype=np.float64)\n",
        "print(x)\n",
        "print(y)\n",
        "print(x+y)\n",
        "print(np.add(x,y))"
      ],
      "metadata": {
        "colab": {
          "base_uri": "https://localhost:8080/"
        },
        "id": "jhmkyucMnv8A",
        "outputId": "0914d173-556c-4a60-ffe8-db27d0ba9091"
      },
      "execution_count": 18,
      "outputs": [
        {
          "output_type": "stream",
          "name": "stdout",
          "text": [
            "[[1. 2.]\n",
            " [3. 4.]]\n",
            "[[5. 6.]\n",
            " [7. 8.]]\n",
            "[[ 6.  8.]\n",
            " [10. 12.]]\n",
            "[[ 6.  8.]\n",
            " [10. 12.]]\n"
          ]
        }
      ]
    },
    {
      "cell_type": "code",
      "source": [
        "print(x*y)\n",
        "print(np.multiply(x,y))\n",
        "#dot for matrix multiplication, multiply for single elements\n",
        "print(x.dot(y))"
      ],
      "metadata": {
        "colab": {
          "base_uri": "https://localhost:8080/"
        },
        "id": "l8AGHzECn14w",
        "outputId": "0d20d1b4-c2c8-44b8-fee5-482504518ae0"
      },
      "execution_count": 19,
      "outputs": [
        {
          "output_type": "stream",
          "name": "stdout",
          "text": [
            "[[ 5. 12.]\n",
            " [21. 32.]]\n",
            "[[ 5. 12.]\n",
            " [21. 32.]]\n",
            "[[19. 22.]\n",
            " [43. 50.]]\n"
          ]
        }
      ]
    },
    {
      "cell_type": "code",
      "source": [
        "x1=np.array([1,2,3])\n",
        "x2=np.array([4,5,6])\n",
        "print(x1*x2)\n",
        "print(x1.dot(x2))\n",
        "print(np.dot(x1,x2))\n"
      ],
      "metadata": {
        "colab": {
          "base_uri": "https://localhost:8080/"
        },
        "id": "NiPxU5-rn3m4",
        "outputId": "5fa477c6-3834-4e9f-d090-9cad1a6e4554"
      },
      "execution_count": 20,
      "outputs": [
        {
          "output_type": "stream",
          "name": "stdout",
          "text": [
            "[ 4 10 18]\n",
            "32\n",
            "32\n"
          ]
        }
      ]
    },
    {
      "cell_type": "markdown",
      "source": [
        "  **q1** Create a Numpy array filled with all ones"
      ],
      "metadata": {
        "id": "irFL1OIArHTX"
      }
    },
    {
      "cell_type": "code",
      "source": [
        " import numpy as np\n",
        " a=np.ones((3,3))\n",
        " print(a)"
      ],
      "metadata": {
        "colab": {
          "base_uri": "https://localhost:8080/"
        },
        "id": "bw53WkxsrD6a",
        "outputId": "8d3c0ebd-867e-40c7-a92f-5a5f307b2d17"
      },
      "execution_count": 21,
      "outputs": [
        {
          "output_type": "stream",
          "name": "stdout",
          "text": [
            "[[1. 1. 1.]\n",
            " [1. 1. 1.]\n",
            " [1. 1. 1.]]\n"
          ]
        }
      ]
    },
    {
      "cell_type": "markdown",
      "source": [
        "**q2** Check whether a Numpy array contains a specified row\n"
      ],
      "metadata": {
        "id": "v5GSFCCvrhuQ"
      }
    },
    {
      "cell_type": "code",
      "source": [
        "import numpy as np\n",
        "num = np.arange(20)\n",
        "arr1 = np.reshape(num, [4, 5])\n",
        "print(\"Original array:\")\n",
        "print(arr1)\n",
        "print([0, 1, 2, 3, 4] in arr1.tolist())\n",
        "print([0, 1, 2, 3, 5] in arr1.tolist())\n",
        "print([15, 16, 17, 18, 19] in arr1.tolist())\n"
      ],
      "metadata": {
        "colab": {
          "base_uri": "https://localhost:8080/"
        },
        "id": "wlipzBtJrmxn",
        "outputId": "59afbb3e-bf16-492d-cd7f-a99308de6a53"
      },
      "execution_count": 54,
      "outputs": [
        {
          "output_type": "stream",
          "name": "stdout",
          "text": [
            "Original array:\n",
            "[[ 0  1  2  3  4]\n",
            " [ 5  6  7  8  9]\n",
            " [10 11 12 13 14]\n",
            " [15 16 17 18 19]]\n",
            "True\n",
            "False\n",
            "True\n"
          ]
        }
      ]
    },
    {
      "cell_type": "markdown",
      "source": [
        "**q3** Compute mathematical operations on Array, Add & Multiply two matrices\n"
      ],
      "metadata": {
        "id": "u2jHFYdEtn0P"
      }
    },
    {
      "cell_type": "code",
      "source": [
        "import numpy as np\n",
        "a=np.random.randint(0,10,(3,3))\n",
        "print(a)\n",
        "b=np.random.randint(0,10,(3,3))\n",
        "print(b)\n",
        "print(np.add(a,b))\n",
        "print(a.dot(b))"
      ],
      "metadata": {
        "colab": {
          "base_uri": "https://localhost:8080/"
        },
        "id": "T6Z1iEBotb0x",
        "outputId": "0d04cb20-314a-48ed-bda9-d45296b4a88d"
      },
      "execution_count": 26,
      "outputs": [
        {
          "output_type": "stream",
          "name": "stdout",
          "text": [
            "[[0 1 5]\n",
            " [0 5 1]\n",
            " [2 2 9]]\n",
            "[[5 5 7]\n",
            " [0 0 1]\n",
            " [1 3 7]]\n",
            "[[ 5  6 12]\n",
            " [ 0  5  2]\n",
            " [ 3  5 16]]\n",
            "[[ 5 15 36]\n",
            " [ 1  3 12]\n",
            " [19 37 79]]\n"
          ]
        }
      ]
    },
    {
      "cell_type": "markdown",
      "source": [
        " **q4** Find the most frequent value in a NumPy array\n",
        "\n",
        "\n",
        "\n"
      ],
      "metadata": {
        "id": "cpTBQt5Qt6z3"
      }
    },
    {
      "cell_type": "code",
      "source": [
        "import numpy as np\n",
        "a=np.array([1,2,3,2,2,2,2,2,1])\n",
        "print(a)\n",
        "x=np.bincount(a)\n",
        "y=np.argmax(x)\n",
        "print(y)"
      ],
      "metadata": {
        "colab": {
          "base_uri": "https://localhost:8080/"
        },
        "id": "zkfZSGuyufN7",
        "outputId": "9bdcbf25-94cd-4734-d002-23e112619837"
      },
      "execution_count": 28,
      "outputs": [
        {
          "output_type": "stream",
          "name": "stdout",
          "text": [
            "[1 2 3 2 2 2 2 2 1]\n",
            "2\n"
          ]
        }
      ]
    },
    {
      "cell_type": "markdown",
      "source": [
        "**q5**Flatten a 2d numpy array into 1d array\n"
      ],
      "metadata": {
        "id": "TUDQiuRsyDoX"
      }
    },
    {
      "cell_type": "code",
      "source": [
        "import numpy as np\n",
        "a=np.random.randint(0,20,(2,2))\n",
        "print(a)\n",
        "b=a.reshape((1,4))\n",
        "print(b)"
      ],
      "metadata": {
        "colab": {
          "base_uri": "https://localhost:8080/"
        },
        "id": "DmUCB3egyQPU",
        "outputId": "9ba627ef-3034-40c2-e9f3-18af78dad8ad"
      },
      "execution_count": 31,
      "outputs": [
        {
          "output_type": "stream",
          "name": "stdout",
          "text": [
            "[[ 5 13]\n",
            " [11 16]]\n",
            "[[ 5 13 11 16]]\n"
          ]
        }
      ]
    },
    {
      "cell_type": "markdown",
      "source": [
        "**q6** Calculate the sum of all columns in a 2D NumPy array"
      ],
      "metadata": {
        "id": "Dgt3SQxm0V7X"
      }
    },
    {
      "cell_type": "code",
      "source": [
        "import numpy as np\n",
        "a=np.random.randint(0,20,(3,3))\n",
        "print(a)\n",
        "x=np.sum(a,axis=0)\n",
        "print('sum of columns is:')\n",
        "print(x)\n",
        "sum=0\n",
        "for i in x:\n",
        " sum= sum + i\n",
        "print('sum of all columns is:')\n",
        "print(sum)"
      ],
      "metadata": {
        "colab": {
          "base_uri": "https://localhost:8080/"
        },
        "id": "_CbN1uoI0dIL",
        "outputId": "8ce1cdd7-2a0f-4d96-8c56-ef8534ce7f58"
      },
      "execution_count": 32,
      "outputs": [
        {
          "output_type": "stream",
          "name": "stdout",
          "text": [
            "[[15  5  6]\n",
            " [ 2 19 12]\n",
            " [ 2  1 17]]\n",
            "sum of columns is:\n",
            "[19 25 35]\n",
            "sum of all columns is:\n",
            "79\n"
          ]
        }
      ]
    },
    {
      "cell_type": "markdown",
      "source": [
        "**q7**Calculate the average, variance and standard deviation in Python using NumPy"
      ],
      "metadata": {
        "id": "BnwWIX_T08QF"
      }
    },
    {
      "cell_type": "code",
      "source": [
        "import numpy as np\n",
        "import math\n",
        "a=np.random.randint(0,10,(2,2))\n",
        "print(a)\n",
        "print('average is:')\n",
        "print(np.average(a))\n",
        "print('variance is:')\n",
        "print(np.var(a))\n",
        "print('standard deviation is:')\n",
        "print(np.std(a))\n",
        "print(math.sqrt(np.var(a)))"
      ],
      "metadata": {
        "colab": {
          "base_uri": "https://localhost:8080/"
        },
        "id": "JYeRi8761Axd",
        "outputId": "f0e7a69c-5168-4dcb-8191-24cd881d4252"
      },
      "execution_count": 33,
      "outputs": [
        {
          "output_type": "stream",
          "name": "stdout",
          "text": [
            "[[6 4]\n",
            " [8 3]]\n",
            "average is:\n",
            "5.25\n",
            "variance is:\n",
            "3.6875\n",
            "standard deviation is:\n",
            "1.920286436967152\n",
            "1.920286436967152\n"
          ]
        }
      ]
    },
    {
      "cell_type": "markdown",
      "source": [
        "**q6**How to insert a space between characters of all the elements of a given NumPy array?"
      ],
      "metadata": {
        "id": "EZZV9u_p1KWl"
      }
    },
    {
      "cell_type": "code",
      "source": [
        "import numpy as np\n",
        "a=[]\n",
        "x=input('enter word1: ')\n",
        "a.append(x)\n",
        "y=input('enter word2: ')\n",
        "a.append(y)\n",
        "z=input('enter word3: ')\n",
        "a.append(z)\n",
        "arr=np.array(a)\n",
        "print(arr)\n",
        "b=np.char.join(' ',arr)\n",
        "print(b)\n"
      ],
      "metadata": {
        "colab": {
          "base_uri": "https://localhost:8080/"
        },
        "id": "SGd2_2B71KDl",
        "outputId": "9881d379-e6a6-41ef-e86e-8183f1279b94"
      },
      "execution_count": 34,
      "outputs": [
        {
          "output_type": "stream",
          "name": "stdout",
          "text": [
            "enter word1: python\n",
            "enter word2: is\n",
            "enter word3: best\n",
            "['python' 'is' 'best']\n",
            "['p y t h o n' 'i s' 'b e s t']\n"
          ]
        }
      ]
    },
    {
      "cell_type": "markdown",
      "source": [
        " **q9**   Plot line graph from NumPy array\n"
      ],
      "metadata": {
        "id": "T9i7E1er1cQc"
      }
    },
    {
      "cell_type": "code",
      "source": [
        "import numpy as np\n",
        "import matplotlib.pyplot as plt\n",
        "x=np.arange(0,10)\n",
        "y = np.array([100, 10, 300, 20, 500, 60, 700, 80, 900, 100])\n",
        "plt.title(\"Line Graph\")\n",
        "plt.xlabel(\"Values of x\")\n",
        "plt.ylabel(\"Values of y\")\n",
        "plt.plot(x,y,color=\"blue\")\n",
        "plt.show()\n"
      ],
      "metadata": {
        "colab": {
          "base_uri": "https://localhost:8080/",
          "height": 295
        },
        "id": "8KWluOzC12Vt",
        "outputId": "b31414b4-c8dd-42f4-c279-4c80388cf504"
      },
      "execution_count": 35,
      "outputs": [
        {
          "output_type": "display_data",
          "data": {
            "text/plain": [
              "<Figure size 432x288 with 1 Axes>"
            ],
            "image/png": "[encoded data removed]"
          },
          "metadata": {
            "needs_background": "light"
          }
        }
      ]
    }
  ]
}